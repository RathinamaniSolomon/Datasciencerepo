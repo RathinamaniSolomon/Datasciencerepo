{
 "cells": [
  {
   "cell_type": "code",
   "execution_count": null,
   "id": "2e3b5bfe-e428-4095-a4fb-bdfa81f1cad4",
   "metadata": {},
   "outputs": [],
   "source": [
    "# Data Science Tools and Ecosystem\n",
    "## In this notebook, Data Science Tools and Ecosystem are summarized."
   ]
  },
  {
   "cell_type": "code",
   "execution_count": null,
   "id": "574dce79-e653-4aee-89ed-eb88a8cf94ec",
   "metadata": {},
   "outputs": [],
   "source": [
    "**Objectives**\n",
    "- Python\n",
    "- R\n",
    "- RUBY\n",
    "- SQL"
   ]
  },
  {
   "cell_type": "markdown",
   "id": "627b049a-8bce-45fc-a60b-f6c70541fb86",
   "metadata": {},
   "source": [
    "### Some of the popular languages that Data Scientists use are:\n",
    "1. Python\n",
    "2. R\n",
    "3. RUBY\n",
    "4. SQL"
   ]
  },
  {
   "cell_type": "code",
   "execution_count": null,
   "id": "c17e8c01-23e5-4435-badb-90f502274240",
   "metadata": {},
   "outputs": [],
   "source": [
    "#### Some of the commonly used libraries used by Data Scientists include:\n",
    "- matplotlib\n",
    "- pandas\n",
    "- SciPy\n",
    "- NumPy"
   ]
  },
  {
   "cell_type": "code",
   "execution_count": null,
   "id": "3b9f3186-7151-4812-80d7-27b6ff644b27",
   "metadata": {},
   "outputs": [],
   "source": [
    "|Data Science Tools|\n",
    "| ----- |\n",
    "| Hadoop |\n",
    "| TensorFlow |\n",
    "| Tableau | "
   ]
  },
  {
   "cell_type": "code",
   "execution_count": null,
   "id": "9bca26d3-7a7b-40dd-bef2-36722c508337",
   "metadata": {},
   "outputs": [],
   "source": [
    "### Below are a few examples of evaluating arithmetic expressions in Python"
   ]
  },
  {
   "cell_type": "code",
   "execution_count": 3,
   "id": "f868fcee-9f4a-4723-ad4f-f0c1c3fed222",
   "metadata": {},
   "outputs": [
    {
     "data": {
      "text/plain": [
       "17"
      ]
     },
     "execution_count": 3,
     "metadata": {},
     "output_type": "execute_result"
    }
   ],
   "source": [
    "# This a simple arithmetic expression to mutiply then add integers\n",
    "(3*4)+5"
   ]
  },
  {
   "cell_type": "code",
   "execution_count": 5,
   "id": "a661d5b4-5ac2-437d-a28e-3c81c68d1306",
   "metadata": {},
   "outputs": [
    {
     "data": {
      "text/plain": [
       "3.3333333333333335"
      ]
     },
     "execution_count": 5,
     "metadata": {},
     "output_type": "execute_result"
    }
   ],
   "source": [
    "#convert minutes to hours\n",
    "200/60"
   ]
  },
  {
   "cell_type": "markdown",
   "id": "dd89cd49-417d-46a5-ab0f-a381b8b57a49",
   "metadata": {},
   "source": [
    "## Author - Rathinamani Solomon"
   ]
  }
 ],
 "metadata": {
  "kernelspec": {
   "display_name": "Python 3 (ipykernel)",
   "language": "python",
   "name": "python3"
  },
  "language_info": {
   "codemirror_mode": {
    "name": "ipython",
    "version": 3
   },
   "file_extension": ".py",
   "mimetype": "text/x-python",
   "name": "python",
   "nbconvert_exporter": "python",
   "pygments_lexer": "ipython3",
   "version": "3.11.7"
  }
 },
 "nbformat": 4,
 "nbformat_minor": 5
}
